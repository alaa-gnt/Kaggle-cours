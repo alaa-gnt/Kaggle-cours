{
 "cells": [
  {
   "cell_type": "code",
   "execution_count": 2,
   "id": "07f6ce11",
   "metadata": {},
   "outputs": [
    {
     "name": "stdout",
     "output_type": "stream",
     "text": [
      "Collecting google-cloud-bigquery\n",
      "  Downloading google_cloud_bigquery-3.35.1-py3-none-any.whl (256 kB)\n",
      "     ---------------------------------------- 0.0/256.9 kB ? eta -:--:--\n",
      "     ---- ----------------------------------- 30.7/256.9 kB ? eta -:--:--\n",
      "     ------------- ------------------------- 92.2/256.9 kB 1.3 MB/s eta 0:00:01\n",
      "     ------------- ------------------------- 92.2/256.9 kB 1.3 MB/s eta 0:00:01\n",
      "     ------------------------ ----------- 174.1/256.9 kB 952.6 kB/s eta 0:00:01\n",
      "     ------------------------ ----------- 174.1/256.9 kB 952.6 kB/s eta 0:00:01\n",
      "     ------------------------------------ 256.9/256.9 kB 927.2 kB/s eta 0:00:00\n",
      "Requirement already satisfied: packaging>=24.2.0 in c:\\users\\pc\\appdata\\roaming\\python\\python310\\site-packages (from google-cloud-bigquery) (25.0)\n",
      "Requirement already satisfied: python-dateutil<3.0.0,>=2.8.2 in c:\\users\\pc\\appdata\\roaming\\python\\python310\\site-packages (from google-cloud-bigquery) (2.9.0.post0)\n",
      "Requirement already satisfied: requests<3.0.0,>=2.21.0 in c:\\users\\pc\\appdata\\roaming\\python\\python310\\site-packages (from google-cloud-bigquery) (2.32.4)\n",
      "Collecting google-api-core[grpc]<3.0.0,>=2.11.1\n",
      "  Downloading google_api_core-2.25.1-py3-none-any.whl (160 kB)\n",
      "     ---------------------------------------- 0.0/160.8 kB ? eta -:--:--\n",
      "     -------------------------- ----------- 112.6/160.8 kB 6.4 MB/s eta 0:00:01\n",
      "     ------------------------------------ - 153.6/160.8 kB 1.8 MB/s eta 0:00:01\n",
      "     -------------------------------------- 160.8/160.8 kB 1.4 MB/s eta 0:00:00\n",
      "Collecting google-resumable-media<3.0.0,>=2.0.0\n",
      "  Downloading google_resumable_media-2.7.2-py2.py3-none-any.whl (81 kB)\n",
      "     ---------------------------------------- 0.0/81.3 kB ? eta -:--:--\n",
      "     ---------------------------------------- 81.3/81.3 kB 2.2 MB/s eta 0:00:00\n",
      "Collecting google-auth<3.0.0,>=2.14.1\n",
      "  Downloading google_auth-2.40.3-py2.py3-none-any.whl (216 kB)\n",
      "     ---------------------------------------- 0.0/216.1 kB ? eta -:--:--\n",
      "     ---------------- ---------------------- 92.2/216.1 kB 5.1 MB/s eta 0:00:01\n",
      "     ------------------- ------------------ 112.6/216.1 kB 1.3 MB/s eta 0:00:01\n",
      "     -------------------------------------  215.0/216.1 kB 1.9 MB/s eta 0:00:01\n",
      "     -------------------------------------- 216.1/216.1 kB 1.5 MB/s eta 0:00:00\n",
      "Collecting google-cloud-core<3.0.0,>=2.4.1\n",
      "  Downloading google_cloud_core-2.4.3-py2.py3-none-any.whl (29 kB)\n",
      "Collecting proto-plus<2.0.0,>=1.22.3\n",
      "  Downloading proto_plus-1.26.1-py3-none-any.whl (50 kB)\n",
      "     ---------------------------------------- 0.0/50.2 kB ? eta -:--:--\n",
      "     ---------------------------------------- 50.2/50.2 kB 2.5 MB/s eta 0:00:00\n",
      "Collecting googleapis-common-protos<2.0.0,>=1.56.2\n",
      "  Downloading googleapis_common_protos-1.70.0-py3-none-any.whl (294 kB)\n",
      "     ---------------------------------------- 0.0/294.5 kB ? eta -:--:--\n",
      "     ------------------- ------------------ 153.6/294.5 kB 4.5 MB/s eta 0:00:01\n",
      "     ----------------------------- -------- 225.3/294.5 kB 3.4 MB/s eta 0:00:01\n",
      "     ----------------------------- -------- 225.3/294.5 kB 3.4 MB/s eta 0:00:01\n",
      "     ------------------------------------ - 286.7/294.5 kB 1.8 MB/s eta 0:00:01\n",
      "     -------------------------------------- 294.5/294.5 kB 1.5 MB/s eta 0:00:00\n",
      "Requirement already satisfied: protobuf!=3.20.0,!=3.20.1,!=4.21.0,!=4.21.1,!=4.21.2,!=4.21.3,!=4.21.4,!=4.21.5,<7.0.0,>=3.19.5 in c:\\users\\pc\\appdata\\local\\programs\\python\\python310\\lib\\site-packages (from google-api-core[grpc]<3.0.0,>=2.11.1->google-cloud-bigquery) (5.29.5)\n",
      "Collecting grpcio-status<2.0.0,>=1.33.2\n",
      "  Downloading grpcio_status-1.74.0-py3-none-any.whl (14 kB)\n",
      "Requirement already satisfied: grpcio<2.0.0,>=1.33.2 in c:\\users\\pc\\appdata\\roaming\\python\\python310\\site-packages (from google-api-core[grpc]<3.0.0,>=2.11.1->google-cloud-bigquery) (1.74.0)\n",
      "Collecting rsa<5,>=3.1.4\n",
      "  Downloading rsa-4.9.1-py3-none-any.whl (34 kB)\n",
      "Collecting cachetools<6.0,>=2.0.0\n",
      "  Downloading cachetools-5.5.2-py3-none-any.whl (10 kB)\n",
      "Collecting pyasn1-modules>=0.2.1\n",
      "  Downloading pyasn1_modules-0.4.2-py3-none-any.whl (181 kB)\n",
      "     ---------------------------------------- 0.0/181.3 kB ? eta -:--:--\n",
      "     ------ -------------------------------- 30.7/181.3 kB 1.3 MB/s eta 0:00:01\n",
      "     ------ -------------------------------- 30.7/181.3 kB 1.3 MB/s eta 0:00:01\n",
      "     -------------- ---------------------- 71.7/181.3 kB 653.6 kB/s eta 0:00:01\n",
      "     ---------------------- ------------- 112.6/181.3 kB 930.9 kB/s eta 0:00:01\n",
      "     ------------------------------------ 181.3/181.3 kB 842.5 kB/s eta 0:00:00\n",
      "Collecting google-crc32c<2.0dev,>=1.0\n",
      "  Downloading google_crc32c-1.7.1-cp310-cp310-win_amd64.whl (33 kB)\n",
      "Requirement already satisfied: six>=1.5 in c:\\users\\pc\\appdata\\roaming\\python\\python310\\site-packages (from python-dateutil<3.0.0,>=2.8.2->google-cloud-bigquery) (1.17.0)\n",
      "Requirement already satisfied: certifi>=2017.4.17 in c:\\users\\pc\\appdata\\roaming\\python\\python310\\site-packages (from requests<3.0.0,>=2.21.0->google-cloud-bigquery) (2025.8.3)\n",
      "Requirement already satisfied: idna<4,>=2.5 in c:\\users\\pc\\appdata\\roaming\\python\\python310\\site-packages (from requests<3.0.0,>=2.21.0->google-cloud-bigquery) (3.10)\n",
      "Requirement already satisfied: urllib3<3,>=1.21.1 in c:\\users\\pc\\appdata\\local\\programs\\python\\python310\\lib\\site-packages (from requests<3.0.0,>=2.21.0->google-cloud-bigquery) (2.5.0)\n",
      "Requirement already satisfied: charset_normalizer<4,>=2 in c:\\users\\pc\\appdata\\roaming\\python\\python310\\site-packages (from requests<3.0.0,>=2.21.0->google-cloud-bigquery) (3.4.2)\n",
      "Collecting protobuf!=3.20.0,!=3.20.1,!=4.21.0,!=4.21.1,!=4.21.2,!=4.21.3,!=4.21.4,!=4.21.5,<7.0.0,>=3.19.5\n",
      "  Downloading protobuf-6.31.1-cp310-abi3-win_amd64.whl (435 kB)\n",
      "     ---------------------------------------- 0.0/435.3 kB ? eta -:--:--\n",
      "     ------------ ------------------------- 143.4/435.3 kB 4.3 MB/s eta 0:00:01\n",
      "     --------------- ---------------------- 174.1/435.3 kB 2.1 MB/s eta 0:00:01\n",
      "     ------------------------- ------------ 286.7/435.3 kB 2.5 MB/s eta 0:00:01\n",
      "     ----------------------------- -------- 337.9/435.3 kB 2.1 MB/s eta 0:00:01\n",
      "     --------------------------------- ---- 389.1/435.3 kB 2.0 MB/s eta 0:00:01\n",
      "     -------------------------------------  430.1/435.3 kB 1.7 MB/s eta 0:00:01\n",
      "     -------------------------------------- 435.3/435.3 kB 1.4 MB/s eta 0:00:00\n",
      "Collecting pyasn1<0.7.0,>=0.6.1\n",
      "  Downloading pyasn1-0.6.1-py3-none-any.whl (83 kB)\n",
      "     ---------------------------------------- 0.0/83.1 kB ? eta -:--:--\n",
      "     ---------------------------------------- 83.1/83.1 kB 4.9 MB/s eta 0:00:00\n",
      "Installing collected packages: pyasn1, protobuf, google-crc32c, cachetools, rsa, pyasn1-modules, proto-plus, googleapis-common-protos, google-resumable-media, grpcio-status, google-auth, google-api-core, google-cloud-core, google-cloud-bigquery\n",
      "  Attempting uninstall: protobuf\n",
      "    Found existing installation: protobuf 5.29.5\n",
      "    Uninstalling protobuf-5.29.5:\n",
      "      Successfully uninstalled protobuf-5.29.5\n",
      "Note: you may need to restart the kernel to use updated packages.\n"
     ]
    },
    {
     "name": "stderr",
     "output_type": "stream",
     "text": [
      "ERROR: Could not install packages due to an OSError: [WinError 5] Access is denied: 'C:\\\\Users\\\\pc\\\\AppData\\\\Local\\\\Programs\\\\Python\\\\Python310\\\\Lib\\\\site-packages\\\\google\\\\~upb\\\\_message.pyd'\n",
      "Consider using the `--user` option or check the permissions.\n",
      "\n",
      "\n",
      "[notice] A new release of pip is available: 23.0.1 -> 25.2\n",
      "[notice] To update, run: python.exe -m pip install --upgrade pip\n"
     ]
    },
    {
     "ename": "ModuleNotFoundError",
     "evalue": "No module named 'google.cloud'",
     "output_type": "error",
     "traceback": [
      "\u001b[1;31m---------------------------------------------------------------------------\u001b[0m",
      "\u001b[1;31mModuleNotFoundError\u001b[0m                       Traceback (most recent call last)",
      "Cell \u001b[1;32mIn[2], line 2\u001b[0m\n\u001b[0;32m      1\u001b[0m get_ipython()\u001b[38;5;241m.\u001b[39mrun_line_magic(\u001b[38;5;124m'\u001b[39m\u001b[38;5;124mpip\u001b[39m\u001b[38;5;124m'\u001b[39m, \u001b[38;5;124m'\u001b[39m\u001b[38;5;124minstall google-cloud-bigquery\u001b[39m\u001b[38;5;124m'\u001b[39m)\n\u001b[1;32m----> 2\u001b[0m \u001b[38;5;28;01mfrom\u001b[39;00m\u001b[38;5;250m \u001b[39m\u001b[38;5;21;01mgoogle\u001b[39;00m\u001b[38;5;21;01m.\u001b[39;00m\u001b[38;5;21;01mcloud\u001b[39;00m\u001b[38;5;250m \u001b[39m\u001b[38;5;28;01mimport\u001b[39;00m bigquery\n",
      "\u001b[1;31mModuleNotFoundError\u001b[0m: No module named 'google.cloud'"
     ]
    }
   ],
   "source": [
    "%pip install google-cloud-bigquery\n",
    "from google.cloud import bigquery\n"
   ]
  }
 ],
 "metadata": {
  "kernelspec": {
   "display_name": "Python 3",
   "language": "python",
   "name": "python3"
  },
  "language_info": {
   "codemirror_mode": {
    "name": "ipython",
    "version": 3
   },
   "file_extension": ".py",
   "mimetype": "text/x-python",
   "name": "python",
   "nbconvert_exporter": "python",
   "pygments_lexer": "ipython3",
   "version": "3.10.11"
  }
 },
 "nbformat": 4,
 "nbformat_minor": 5
}
